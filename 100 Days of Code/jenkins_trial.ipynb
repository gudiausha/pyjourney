{
 "cells": [
  {
   "cell_type": "code",
   "execution_count": 1,
   "metadata": {},
   "outputs": [
    {
     "name": "stdout",
     "output_type": "stream",
     "text": [
      "Collecting python-jenkins\n",
      "  Downloading python_jenkins-1.7.0-py3-none-any.whl (27 kB)\n",
      "Requirement already satisfied: requests in c:\\users\\user\\anaconda3\\lib\\site-packages (from python-jenkins) (2.22.0)\n",
      "Requirement already satisfied: six>=1.3.0 in c:\\users\\user\\anaconda3\\lib\\site-packages (from python-jenkins) (1.14.0)\n",
      "Requirement already satisfied: pbr>=0.8.2 in c:\\users\\user\\anaconda3\\lib\\site-packages (from python-jenkins) (5.4.5)\n",
      "Collecting multi-key-dict\n",
      "  Downloading multi_key_dict-2.0.3.tar.gz (8.4 kB)\n",
      "Requirement already satisfied: chardet<3.1.0,>=3.0.2 in c:\\users\\user\\anaconda3\\lib\\site-packages (from requests->python-jenkins) (3.0.4)\n",
      "Requirement already satisfied: idna<2.9,>=2.5 in c:\\users\\user\\anaconda3\\lib\\site-packages (from requests->python-jenkins) (2.8)\n",
      "Requirement already satisfied: certifi>=2017.4.17 in c:\\users\\user\\anaconda3\\lib\\site-packages (from requests->python-jenkins) (2019.11.28)\n",
      "Requirement already satisfied: urllib3!=1.25.0,!=1.25.1,<1.26,>=1.21.1 in c:\\users\\user\\anaconda3\\lib\\site-packages (from requests->python-jenkins) (1.25.8)\n",
      "Building wheels for collected packages: multi-key-dict\n",
      "  Building wheel for multi-key-dict (setup.py): started\n",
      "  Building wheel for multi-key-dict (setup.py): finished with status 'done'\n",
      "  Created wheel for multi-key-dict: filename=multi_key_dict-2.0.3-py3-none-any.whl size=9305 sha256=1c54c30d0d6e26938c54dfb7ef0a2ed3fa510131a8d73fca027ad1ab838b5049\n",
      "  Stored in directory: c:\\users\\user\\appdata\\local\\pip\\cache\\wheels\\36\\c5\\3d\\c1cc9483994832cae5c67ab642f3770b46f247340aab8dd614\n",
      "Successfully built multi-key-dict\n",
      "Installing collected packages: multi-key-dict, python-jenkins\n",
      "Successfully installed multi-key-dict-2.0.3 python-jenkins-1.7.0\n"
     ]
    }
   ],
   "source": [
    "!pip install python-jenkins"
   ]
  },
  {
   "cell_type": "code",
   "execution_count": 134,
   "metadata": {},
   "outputs": [
    {
     "name": "stdout",
     "output_type": "stream",
     "text": [
      "empty\n",
      "empty1\n",
      "jenkins-demo-trial\n",
      "test\n",
      "test 2\n",
      "test-1\n",
      "test-10\n",
      "test-2\n",
      "test-3\n",
      "test-4\n",
      "test1\n",
      "test3\n"
     ]
    }
   ],
   "source": [
    "import jenkins\n",
    "\n",
    "# created jenkins object named 'server'\n",
    "server = jenkins.Jenkins('http://127.0.0.1:8080/', username='pratyusha', \n",
    "                         password='12pratyu34')\n",
    "\n",
    "# must check this, its coming at certain times and sometimes it dosen't show up\n",
    "# gets the jenkins version\n",
    "# version = server.get_version()\n",
    "# print(version)\n",
    "\n",
    "# gets the list of jobs present in dashboard\n",
    "jobs = server.get_all_jobs(folder_depth=None)\n",
    "for job in jobs:\n",
    "    print(job['fullname'])\n"
   ]
  },
  {
   "cell_type": "code",
   "execution_count": 68,
   "metadata": {},
   "outputs": [
    {
     "name": "stdout",
     "output_type": "stream",
     "text": [
      "_class hudson.model.FreeStyleProject\n",
      "actions [{}, {}, {}, {'_class': 'com.cloudbees.plugins.credentials.ViewCredentialsAction'}]\n",
      "description This is test proj 1\n",
      "displayName test1\n",
      "displayNameOrNull None\n",
      "fullDisplayName test1\n",
      "fullName test1\n",
      "name test1\n",
      "url http://localhost:8080/job/test1/\n",
      "buildable True\n",
      "builds [{'_class': 'hudson.model.FreeStyleBuild', 'number': 10, 'url': 'http://localhost:8080/job/test1/10/'}, {'_class': 'hudson.model.FreeStyleBuild', 'number': 9, 'url': 'http://localhost:8080/job/test1/9/'}, {'_class': 'hudson.model.FreeStyleBuild', 'number': 8, 'url': 'http://localhost:8080/job/test1/8/'}, {'_class': 'hudson.model.FreeStyleBuild', 'number': 7, 'url': 'http://localhost:8080/job/test1/7/'}, {'_class': 'hudson.model.FreeStyleBuild', 'number': 6, 'url': 'http://localhost:8080/job/test1/6/'}, {'_class': 'hudson.model.FreeStyleBuild', 'number': 5, 'url': 'http://localhost:8080/job/test1/5/'}, {'_class': 'hudson.model.FreeStyleBuild', 'number': 4, 'url': 'http://localhost:8080/job/test1/4/'}, {'_class': 'hudson.model.FreeStyleBuild', 'number': 3, 'url': 'http://localhost:8080/job/test1/3/'}, {'_class': 'hudson.model.FreeStyleBuild', 'number': 2, 'url': 'http://localhost:8080/job/test1/2/'}, {'_class': 'hudson.model.FreeStyleBuild', 'number': 1, 'url': 'http://localhost:8080/job/test1/1/'}]\n",
      "color red\n",
      "firstBuild {'_class': 'hudson.model.FreeStyleBuild', 'number': 1, 'url': 'http://localhost:8080/job/test1/1/'}\n",
      "healthReport [{'description': 'Build stability: 4 out of the last 5 builds failed.', 'iconClassName': 'icon-health-00to19', 'iconUrl': 'health-00to19.png', 'score': 20}]\n",
      "inQueue False\n",
      "keepDependencies False\n",
      "lastBuild {'_class': 'hudson.model.FreeStyleBuild', 'number': 10, 'url': 'http://localhost:8080/job/test1/10/'}\n",
      "lastCompletedBuild {'_class': 'hudson.model.FreeStyleBuild', 'number': 10, 'url': 'http://localhost:8080/job/test1/10/'}\n",
      "lastFailedBuild {'_class': 'hudson.model.FreeStyleBuild', 'number': 10, 'url': 'http://localhost:8080/job/test1/10/'}\n",
      "lastStableBuild {'_class': 'hudson.model.FreeStyleBuild', 'number': 9, 'url': 'http://localhost:8080/job/test1/9/'}\n",
      "lastSuccessfulBuild {'_class': 'hudson.model.FreeStyleBuild', 'number': 9, 'url': 'http://localhost:8080/job/test1/9/'}\n",
      "lastUnstableBuild None\n",
      "lastUnsuccessfulBuild {'_class': 'hudson.model.FreeStyleBuild', 'number': 10, 'url': 'http://localhost:8080/job/test1/10/'}\n",
      "nextBuildNumber 11\n",
      "property []\n",
      "queueItem None\n",
      "concurrentBuild False\n",
      "disabled False\n",
      "downstreamProjects []\n",
      "labelExpression None\n",
      "scm {'_class': 'hudson.scm.NullSCM'}\n",
      "upstreamProjects []\n",
      "None\n"
     ]
    }
   ],
   "source": [
    "# # returns info about particular job in readable format\n",
    "# # for json format: server.get_job_info('name')\n",
    "info = server.debug_job_info('test1')\n",
    "print(info)"
   ]
  },
  {
   "cell_type": "code",
   "execution_count": 61,
   "metadata": {},
   "outputs": [
    {
     "name": "stdout",
     "output_type": "stream",
     "text": [
      "<?xml version=\"1.0\" encoding=\"UTF-8\"?><project>\r\n",
      "  <keepDependencies>false</keepDependencies>\r\n",
      "  <properties/>\r\n",
      "  <scm class=\"jenkins.scm.NullSCM\"/>\r\n",
      "  <canRoam>true</canRoam>\r\n",
      "  <disabled>false</disabled>\r\n",
      "  <blockBuildWhenUpstreamBuilding>false</blockBuildWhenUpstreamBuilding>\r\n",
      "  <triggers class=\"vector\"/>\r\n",
      "  <concurrentBuild>false</concurrentBuild>\r\n",
      "  <builders/>\r\n",
      "  <publishers/>\r\n",
      "  <buildWrappers/>\r\n",
      "</project>\n"
     ]
    }
   ],
   "source": [
    "# to create a job using python script, a config file is needed....the format for the config file is as such:\n",
    "# gets the config file for test1, based on this will create config files for the other jobs and then create them\n",
    "con = server.get_job_config('empty')\n",
    "print(con)"
   ]
  },
  {
   "cell_type": "code",
   "execution_count": 69,
   "metadata": {},
   "outputs": [],
   "source": [
    "# creates a job with inbuilt empty config xml already defined.\n",
    "# https://stackoverflow.com/questions/43960401/creating-jenkins-job-using-python-api\n",
    "server.create_job('empty1', jenkins.EMPTY_CONFIG_XML)"
   ]
  },
  {
   "cell_type": "code",
   "execution_count": 70,
   "metadata": {},
   "outputs": [
    {
     "name": "stdout",
     "output_type": "stream",
     "text": [
      "<?xml version=\"1.0\" encoding=\"UTF-8\"?><project>\r\n",
      "  <keepDependencies>false</keepDependencies>\r\n",
      "  <properties/>\r\n",
      "  <scm class=\"jenkins.scm.NullSCM\"/>\r\n",
      "  <canRoam>true</canRoam>\r\n",
      "  <disabled>false</disabled>\r\n",
      "  <blockBuildWhenUpstreamBuilding>false</blockBuildWhenUpstreamBuilding>\r\n",
      "  <triggers class=\"vector\"/>\r\n",
      "  <concurrentBuild>false</concurrentBuild>\r\n",
      "  <builders/>\r\n",
      "  <publishers/>\r\n",
      "  <buildWrappers/>\r\n",
      "</project>\n"
     ]
    }
   ],
   "source": [
    "con = server.get_job_config('empty1')\n",
    "print(con)"
   ]
  },
  {
   "cell_type": "markdown",
   "metadata": {},
   "source": [
    "another way of creating xml files is by using python's in built library:\n",
    "'''\n",
    "import xml.etree.ElementTree as xml\n",
    "filename = \"C:/Users/USER/Desktop/python/test_xml.xml\"\n",
    "root = xml.Element(\"project\")\n",
    "userelement = xml.SubElement(\"user\")\n",
    "root.append(userelement)\n",
    "uid = xml.SubElement(userelement, \"uid\")\n",
    "uid.text = \"1\"\n",
    "tree = xml.ElementTree(root)\n",
    "tree.write(\"test.xml\")\n",
    "\n",
    "'''\n",
    "tried the above method to create similar xml files,but the prob occured during uploading. So the sol to that is to convert\n",
    "the xml file to string and upload it. This worked well. The same can be used when needed to give customized descriptions\n",
    "for each job etc.\n",
    "https://stackoverflow.com/questions/45866349/how-to-create-jenkins-job-with-customized-xml-in-python\n",
    "\n",
    "'''\n",
    "import xml.etree.ElementTree as ET\n",
    "\n",
    "def convert_xml_file_to_str():\n",
    "    tree = ET.parse('C:/Users/USER/Desktop/python/test_xml.xml')\n",
    "    root = tree.getroot()\n",
    "    return ET.tostring(root, encoding='utf8', method='xml').decode()\n",
    "\n",
    "def main():\n",
    "    target_server = jenkins.Jenkins(url, username=username, password=password)\n",
    "    config = convert_xml_file_to_str()\n",
    "    server.create_job('test3', config)\n",
    "\n",
    "main()\n",
    "\n",
    "'''"
   ]
  },
  {
   "cell_type": "code",
   "execution_count": 71,
   "metadata": {},
   "outputs": [],
   "source": [
    "#for now decided to go in with using jenkins inbuilt config files\n",
    "for i in range(1,11):\n",
    "    #print('test-'+str(i))\n",
    "    server.create_job('test-'+str(i), jenkins.EMPTY_CONFIG_XML)"
   ]
  },
  {
   "cell_type": "markdown",
   "metadata": {},
   "source": [
    "\n",
    "![<>](job-creation-jenkins.jpg)"
   ]
  },
  {
   "cell_type": "code",
   "execution_count": 72,
   "metadata": {},
   "outputs": [
    {
     "data": {
      "text/plain": [
       "21"
      ]
     },
     "execution_count": 72,
     "metadata": {},
     "output_type": "execute_result"
    }
   ],
   "source": [
    "server.build_job('empty') #build successful"
   ]
  },
  {
   "cell_type": "code",
   "execution_count": 78,
   "metadata": {},
   "outputs": [
    {
     "name": "stdout",
     "output_type": "stream",
     "text": [
      "[{'_class': 'hudson.model.FreeStyleProject', 'name': 'empty', 'url': 'http://localhost:8080/job/empty/', 'color': 'blue', 'fullname': 'empty'}, {'_class': 'hudson.model.FreeStyleProject', 'name': 'empty1', 'url': 'http://localhost:8080/job/empty1/', 'color': 'notbuilt', 'fullname': 'empty1'}, {'_class': 'hudson.model.FreeStyleProject', 'name': 'jenkins-demo-trial', 'url': 'http://localhost:8080/job/jenkins-demo-trial/', 'color': 'red', 'fullname': 'jenkins-demo-trial'}, {'_class': 'hudson.model.FreeStyleProject', 'name': 'test', 'url': 'http://localhost:8080/job/test/', 'color': 'notbuilt', 'fullname': 'test'}, {'_class': 'hudson.model.FreeStyleProject', 'name': 'test 2', 'url': 'http://localhost:8080/job/test%202/', 'color': 'blue', 'fullname': 'test 2'}, {'_class': 'hudson.model.FreeStyleProject', 'name': 'test-1', 'url': 'http://localhost:8080/job/test-1/', 'color': 'notbuilt', 'fullname': 'test-1'}, {'_class': 'hudson.model.FreeStyleProject', 'name': 'test-10', 'url': 'http://localhost:8080/job/test-10/', 'color': 'notbuilt', 'fullname': 'test-10'}, {'_class': 'hudson.model.FreeStyleProject', 'name': 'test-2', 'url': 'http://localhost:8080/job/test-2/', 'color': 'notbuilt', 'fullname': 'test-2'}, {'_class': 'hudson.model.FreeStyleProject', 'name': 'test-3', 'url': 'http://localhost:8080/job/test-3/', 'color': 'notbuilt', 'fullname': 'test-3'}, {'_class': 'hudson.model.FreeStyleProject', 'name': 'test-4', 'url': 'http://localhost:8080/job/test-4/', 'color': 'notbuilt', 'fullname': 'test-4'}, {'_class': 'hudson.model.FreeStyleProject', 'name': 'test-5', 'url': 'http://localhost:8080/job/test-5/', 'color': 'notbuilt', 'fullname': 'test-5'}, {'_class': 'hudson.model.FreeStyleProject', 'name': 'test-6', 'url': 'http://localhost:8080/job/test-6/', 'color': 'notbuilt', 'fullname': 'test-6'}, {'_class': 'hudson.model.FreeStyleProject', 'name': 'test-7', 'url': 'http://localhost:8080/job/test-7/', 'color': 'notbuilt', 'fullname': 'test-7'}, {'_class': 'hudson.model.FreeStyleProject', 'name': 'test-8', 'url': 'http://localhost:8080/job/test-8/', 'color': 'notbuilt', 'fullname': 'test-8'}, {'_class': 'hudson.model.FreeStyleProject', 'name': 'test-9', 'url': 'http://localhost:8080/job/test-9/', 'color': 'notbuilt', 'fullname': 'test-9'}, {'_class': 'hudson.model.FreeStyleProject', 'name': 'test1', 'url': 'http://localhost:8080/job/test1/', 'color': 'red', 'fullname': 'test1'}, {'_class': 'hudson.model.FreeStyleProject', 'name': 'test3', 'url': 'http://localhost:8080/job/test3/', 'color': 'notbuilt', 'fullname': 'test3'}]\n",
      "<class 'list'>\n"
     ]
    }
   ],
   "source": [
    "li = server.get_all_jobs()\n",
    "print(li)\n",
    "# print(type(li))"
   ]
  },
  {
   "cell_type": "code",
   "execution_count": 79,
   "metadata": {},
   "outputs": [
    {
     "name": "stdout",
     "output_type": "stream",
     "text": [
      "['empty', 'empty1', 'jenkins-demo-trial', 'test', 'test 2', 'test-1', 'test-10', 'test-2', 'test-3', 'test-4', 'test-5', 'test-6', 'test-7', 'test-8', 'test-9', 'test1', 'test3']\n"
     ]
    }
   ],
   "source": [
    "jobs_list=[]\n",
    "for li in li:\n",
    "    jobs=li['fullname']\n",
    "    jobs_list.append(jobs)\n",
    "print(jobs_list)"
   ]
  },
  {
   "cell_type": "code",
   "execution_count": 125,
   "metadata": {},
   "outputs": [],
   "source": [
    "import re\n",
    "# for i in range(1,6):\n",
    "#     print(i)\n",
    "build_jobs_list = re.findall(r\"\\bt\\w*?t-[0-5]+\\b\",str(jobs_list))\n",
    "de_jobs_list = re.findall(r\"\\bt\\w*?t-[5-9]+\\b\",str(jobs_list))"
   ]
  },
  {
   "cell_type": "code",
   "execution_count": 117,
   "metadata": {},
   "outputs": [
    {
     "name": "stdout",
     "output_type": "stream",
     "text": [
      "['test-1', 'test-10', 'test-2', 'test-3', 'test-4', 'test-5']\n"
     ]
    }
   ],
   "source": [
    "print(build_jobs_list)"
   ]
  },
  {
   "cell_type": "code",
   "execution_count": 126,
   "metadata": {},
   "outputs": [
    {
     "name": "stdout",
     "output_type": "stream",
     "text": [
      "['test-5', 'test-6', 'test-7', 'test-8', 'test-9']\n"
     ]
    }
   ],
   "source": [
    "print(de_jobs_list)"
   ]
  },
  {
   "cell_type": "code",
   "execution_count": 110,
   "metadata": {},
   "outputs": [
    {
     "data": {
      "text/plain": [
       "23"
      ]
     },
     "execution_count": 110,
     "metadata": {},
     "output_type": "execute_result"
    }
   ],
   "source": [
    "server.build_job('empty1')"
   ]
  },
  {
   "cell_type": "code",
   "execution_count": 113,
   "metadata": {},
   "outputs": [],
   "source": [
    "for i in build_jobs_list:\n",
    "    server.build_job(i) \n",
    "    \n",
    "#built multiple jobs successfully, remember to restart the server once otherwise will get 'crumb error'"
   ]
  },
  {
   "cell_type": "markdown",
   "metadata": {},
   "source": [
    "![Multiple jobs build](multiple-job-build.jpg)"
   ]
  },
  {
   "cell_type": "code",
   "execution_count": 127,
   "metadata": {},
   "outputs": [],
   "source": [
    "# running for 3rd time to check\n",
    "for i in build_jobs_list:\n",
    "    server.build_job(i)"
   ]
  },
  {
   "cell_type": "code",
   "execution_count": 128,
   "metadata": {},
   "outputs": [],
   "source": [
    "for names in de_jobs_list:\n",
    "    server.delete_job(names)"
   ]
  },
  {
   "cell_type": "markdown",
   "metadata": {},
   "source": [
    "![](delete-job-build.jpg)"
   ]
  },
  {
   "cell_type": "code",
   "execution_count": 129,
   "metadata": {},
   "outputs": [
    {
     "data": {
      "text/plain": [
       "12"
      ]
     },
     "execution_count": 129,
     "metadata": {},
     "output_type": "execute_result"
    }
   ],
   "source": [
    "# jobs count after deleting test-5 to test-9\n",
    "server.jobs_count()"
   ]
  },
  {
   "cell_type": "code",
   "execution_count": 131,
   "metadata": {},
   "outputs": [
    {
     "name": "stdout",
     "output_type": "stream",
     "text": [
      "<?xml version='1.1' encoding='UTF-8'?>\n",
      "<project>\n",
      "  <description>This is for learning purpose of jenkins</description>\n",
      "  <keepDependencies>false</keepDependencies>\n",
      "  <properties>\n",
      "    <com.coravy.hudson.plugins.github.GithubProjectProperty plugin=\"github@1.30.0\">\n",
      "      <projectUrl>https://github.com/gudiausha/pyjourney/</projectUrl>\n",
      "      <displayName>first learning jenkins</displayName>\n",
      "    </com.coravy.hudson.plugins.github.GithubProjectProperty>\n",
      "  </properties>\n",
      "  <scm class=\"hudson.plugins.git.GitSCM\" plugin=\"git@4.2.2\">\n",
      "    <configVersion>2</configVersion>\n",
      "    <userRemoteConfigs>\n",
      "      <hudson.plugins.git.UserRemoteConfig>\n",
      "        <url>https://github.com/gudiausha/pyjourney</url>\n",
      "      </hudson.plugins.git.UserRemoteConfig>\n",
      "    </userRemoteConfigs>\n",
      "    <branches>\n",
      "      <hudson.plugins.git.BranchSpec>\n",
      "        <name>https://github.com/gudiausha/pyjourney/tree/jenkins-trial</name>\n",
      "      </hudson.plugins.git.BranchSpec>\n",
      "    </branches>\n",
      "    <doGenerateSubmoduleConfigurations>false</doGenerateSubmoduleConfigurations>\n",
      "    <submoduleCfg class=\"list\"/>\n",
      "    <extensions/>\n",
      "  </scm>\n",
      "  <canRoam>true</canRoam>\n",
      "  <disabled>false</disabled>\n",
      "  <blockBuildWhenDownstreamBuilding>false</blockBuildWhenDownstreamBuilding>\n",
      "  <blockBuildWhenUpstreamBuilding>false</blockBuildWhenUpstreamBuilding>\n",
      "  <triggers/>\n",
      "  <concurrentBuild>false</concurrentBuild>\n",
      "  <builders>\n",
      "    <hudson.tasks.Shell>\n",
      "      <command>javac sample.java\n",
      "java sample</command>\n",
      "    </hudson.tasks.Shell>\n",
      "  </builders>\n",
      "  <publishers>\n",
      "    <com.cloudbees.jenkins.GitHubCommitNotifier plugin=\"github@1.30.0\">\n",
      "      <statusMessage>\n",
      "        <content></content>\n",
      "      </statusMessage>\n",
      "      <resultOnFailure>FAILURE</resultOnFailure>\n",
      "    </com.cloudbees.jenkins.GitHubCommitNotifier>\n",
      "  </publishers>\n",
      "  <buildWrappers/>\n",
      "</project>\n"
     ]
    }
   ],
   "source": [
    "con=server.get_job_config('jenkins-demo-trial')\n",
    "print(con)"
   ]
  },
  {
   "cell_type": "code",
   "execution_count": 137,
   "metadata": {},
   "outputs": [],
   "source": [
    "server.copy_job('jenkins-demo-trial','test_copy')\n",
    "#the 'to-file' must not be existing file. Only then this will work. the process is \n",
    "#jenkins creates a new file named 'test_copy' with the same config as the 'from-file'\n",
    "#to change the config of existing file, must use reconfig option. but before tht need to save this config in a file\n",
    "#and use customized config file code provided above"
   ]
  },
  {
   "cell_type": "code",
   "execution_count": 138,
   "metadata": {},
   "outputs": [
    {
     "name": "stdout",
     "output_type": "stream",
     "text": [
      "<?xml version='1.1' encoding='UTF-8'?>\n",
      "<project>\n",
      "  <description>This is for learning purpose of jenkins</description>\n",
      "  <keepDependencies>false</keepDependencies>\n",
      "  <properties>\n",
      "    <com.coravy.hudson.plugins.github.GithubProjectProperty plugin=\"github@1.30.0\">\n",
      "      <projectUrl>https://github.com/gudiausha/pyjourney/</projectUrl>\n",
      "      <displayName>first learning jenkins</displayName>\n",
      "    </com.coravy.hudson.plugins.github.GithubProjectProperty>\n",
      "  </properties>\n",
      "  <scm class=\"hudson.plugins.git.GitSCM\" plugin=\"git@4.2.2\">\n",
      "    <configVersion>2</configVersion>\n",
      "    <userRemoteConfigs>\n",
      "      <hudson.plugins.git.UserRemoteConfig>\n",
      "        <url>https://github.com/gudiausha/pyjourney</url>\n",
      "      </hudson.plugins.git.UserRemoteConfig>\n",
      "    </userRemoteConfigs>\n",
      "    <branches>\n",
      "      <hudson.plugins.git.BranchSpec>\n",
      "        <name>https://github.com/gudiausha/pyjourney/tree/jenkins-trial</name>\n",
      "      </hudson.plugins.git.BranchSpec>\n",
      "    </branches>\n",
      "    <doGenerateSubmoduleConfigurations>false</doGenerateSubmoduleConfigurations>\n",
      "    <submoduleCfg class=\"list\"/>\n",
      "    <extensions/>\n",
      "  </scm>\n",
      "  <canRoam>true</canRoam>\n",
      "  <disabled>false</disabled>\n",
      "  <blockBuildWhenDownstreamBuilding>false</blockBuildWhenDownstreamBuilding>\n",
      "  <blockBuildWhenUpstreamBuilding>false</blockBuildWhenUpstreamBuilding>\n",
      "  <triggers/>\n",
      "  <concurrentBuild>false</concurrentBuild>\n",
      "  <builders>\n",
      "    <hudson.tasks.Shell>\n",
      "      <command>javac sample.java\n",
      "java sample</command>\n",
      "    </hudson.tasks.Shell>\n",
      "  </builders>\n",
      "  <publishers>\n",
      "    <com.cloudbees.jenkins.GitHubCommitNotifier plugin=\"github@1.30.0\">\n",
      "      <statusMessage>\n",
      "        <content></content>\n",
      "      </statusMessage>\n",
      "      <resultOnFailure>FAILURE</resultOnFailure>\n",
      "    </com.cloudbees.jenkins.GitHubCommitNotifier>\n",
      "  </publishers>\n",
      "  <buildWrappers/>\n",
      "</project>\n"
     ]
    }
   ],
   "source": [
    "test_con = server.get_job_config('test_copy')\n",
    "print(test_con)"
   ]
  },
  {
   "cell_type": "code",
   "execution_count": 139,
   "metadata": {},
   "outputs": [
    {
     "ename": "AttributeError",
     "evalue": "'str' object has no attribute 'getroot'",
     "output_type": "error",
     "traceback": [
      "\u001b[1;31m---------------------------------------------------------------------------\u001b[0m",
      "\u001b[1;31mAttributeError\u001b[0m                            Traceback (most recent call last)",
      "\u001b[1;32m<ipython-input-139-26c878c79a9e>\u001b[0m in \u001b[0;36m<module>\u001b[1;34m\u001b[0m\n\u001b[0;32m      8\u001b[0m \u001b[1;31m# def main():\u001b[0m\u001b[1;33m\u001b[0m\u001b[1;33m\u001b[0m\u001b[1;33m\u001b[0m\u001b[0m\n\u001b[0;32m      9\u001b[0m \u001b[1;31m#     target_server = jenkins.Jenkins(url, username=username, password=password)\u001b[0m\u001b[1;33m\u001b[0m\u001b[1;33m\u001b[0m\u001b[1;33m\u001b[0m\u001b[0m\n\u001b[1;32m---> 10\u001b[1;33m \u001b[0mconfig\u001b[0m \u001b[1;33m=\u001b[0m \u001b[0mconvert_xml_file_to_str\u001b[0m\u001b[1;33m(\u001b[0m\u001b[1;33m)\u001b[0m\u001b[1;33m\u001b[0m\u001b[1;33m\u001b[0m\u001b[0m\n\u001b[0m\u001b[0;32m     11\u001b[0m \u001b[0mserver\u001b[0m\u001b[1;33m.\u001b[0m\u001b[0mreconfig_job\u001b[0m\u001b[1;33m(\u001b[0m\u001b[1;34m'test-1'\u001b[0m\u001b[1;33m,\u001b[0m \u001b[0mconfig\u001b[0m\u001b[1;33m)\u001b[0m\u001b[1;33m\u001b[0m\u001b[1;33m\u001b[0m\u001b[0m\n\u001b[0;32m     12\u001b[0m \u001b[1;33m\u001b[0m\u001b[0m\n",
      "\u001b[1;32m<ipython-input-139-26c878c79a9e>\u001b[0m in \u001b[0;36mconvert_xml_file_to_str\u001b[1;34m()\u001b[0m\n\u001b[0;32m      3\u001b[0m \u001b[1;32mdef\u001b[0m \u001b[0mconvert_xml_file_to_str\u001b[0m\u001b[1;33m(\u001b[0m\u001b[1;33m)\u001b[0m\u001b[1;33m:\u001b[0m\u001b[1;33m\u001b[0m\u001b[1;33m\u001b[0m\u001b[0m\n\u001b[0;32m      4\u001b[0m \u001b[1;31m#     tree = ET.parse('C:/Users/USER/Desktop/python/test_xml.xml')\u001b[0m\u001b[1;33m\u001b[0m\u001b[1;33m\u001b[0m\u001b[1;33m\u001b[0m\u001b[0m\n\u001b[1;32m----> 5\u001b[1;33m     \u001b[0mroot\u001b[0m \u001b[1;33m=\u001b[0m \u001b[0mtest_con\u001b[0m\u001b[1;33m.\u001b[0m\u001b[0mgetroot\u001b[0m\u001b[1;33m(\u001b[0m\u001b[1;33m)\u001b[0m\u001b[1;33m\u001b[0m\u001b[1;33m\u001b[0m\u001b[0m\n\u001b[0m\u001b[0;32m      6\u001b[0m     \u001b[1;32mreturn\u001b[0m \u001b[0mET\u001b[0m\u001b[1;33m.\u001b[0m\u001b[0mtostring\u001b[0m\u001b[1;33m(\u001b[0m\u001b[0mroot\u001b[0m\u001b[1;33m,\u001b[0m \u001b[0mencoding\u001b[0m\u001b[1;33m=\u001b[0m\u001b[1;34m'utf8'\u001b[0m\u001b[1;33m,\u001b[0m \u001b[0mmethod\u001b[0m\u001b[1;33m=\u001b[0m\u001b[1;34m'xml'\u001b[0m\u001b[1;33m)\u001b[0m\u001b[1;33m.\u001b[0m\u001b[0mdecode\u001b[0m\u001b[1;33m(\u001b[0m\u001b[1;33m)\u001b[0m\u001b[1;33m\u001b[0m\u001b[1;33m\u001b[0m\u001b[0m\n\u001b[0;32m      7\u001b[0m \u001b[1;33m\u001b[0m\u001b[0m\n",
      "\u001b[1;31mAttributeError\u001b[0m: 'str' object has no attribute 'getroot'"
     ]
    }
   ],
   "source": [
    "import xml.etree.ElementTree as ET\n",
    "\n",
    "def convert_xml_file_to_str():\n",
    "#     tree = ET.parse('C:/Users/USER/Desktop/python/test_xml.xml')\n",
    "    root = test_con.getroot()\n",
    "    return ET.tostring(root, encoding='utf8', method='xml').decode()\n",
    "\n",
    "# def main():\n",
    "#     target_server = jenkins.Jenkins(url, username=username, password=password)\n",
    "config = convert_xml_file_to_str()\n",
    "server.reconfig_job('test-1', config)\n",
    "\n",
    "# main()"
   ]
  },
  {
   "cell_type": "code",
   "execution_count": 140,
   "metadata": {},
   "outputs": [
    {
     "data": {
      "text/plain": [
       "str"
      ]
     },
     "execution_count": 140,
     "metadata": {},
     "output_type": "execute_result"
    }
   ],
   "source": [
    "type(test_con)"
   ]
  },
  {
   "cell_type": "markdown",
   "metadata": {},
   "source": [
    "Main Reference:\n",
    "1.https://readthedocs.org/projects/python-jenkins/downloads/pdf/latest/"
   ]
  }
 ],
 "metadata": {
  "kernelspec": {
   "display_name": "Python 3",
   "language": "python",
   "name": "python3"
  },
  "language_info": {
   "codemirror_mode": {
    "name": "ipython",
    "version": 3
   },
   "file_extension": ".py",
   "mimetype": "text/x-python",
   "name": "python",
   "nbconvert_exporter": "python",
   "pygments_lexer": "ipython3",
   "version": "3.7.6"
  }
 },
 "nbformat": 4,
 "nbformat_minor": 4
}
